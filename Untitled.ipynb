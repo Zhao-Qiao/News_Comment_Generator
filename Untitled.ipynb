{
 "cells": [
  {
   "cell_type": "code",
   "execution_count": 1,
   "id": "66ea45f6-e4c8-4f85-92a1-dbf96c4f5760",
   "metadata": {
    "pycharm": {
     "name": "#%%\n"
    }
   },
   "outputs": [
    {
     "data": {
      "text/plain": [
       "0"
      ]
     },
     "execution_count": 1,
     "metadata": {},
     "output_type": "execute_result"
    }
   ],
   "source": [
    "int(\"0\")"
   ]
  },
  {
   "cell_type": "code",
   "execution_count": 2,
   "id": "50e736fb-3a0a-41a8-b124-3ef619b13373",
   "metadata": {
    "pycharm": {
     "name": "#%%\n"
    }
   },
   "outputs": [],
   "source": [
    "import torch"
   ]
  },
  {
   "cell_type": "code",
   "execution_count": 5,
   "id": "e6feeb69-9bd4-48a0-9736-be807c4f7617",
   "metadata": {
    "pycharm": {
     "name": "#%%\n"
    }
   },
   "outputs": [],
   "source": [
    "a = torch.randn(2,1)\n",
    "b = torch.randn(2,5,6)"
   ]
  },
  {
   "cell_type": "code",
   "execution_count": 7,
   "id": "c9b3dcea-1e91-4d10-b984-e75912448023",
   "metadata": {
    "pycharm": {
     "name": "#%%\n"
    }
   },
   "outputs": [],
   "source": [
    "b[0][0][0] = 0"
   ]
  },
  {
   "cell_type": "code",
   "execution_count": 8,
   "id": "b93f5eb4-3a1f-4bb6-9adf-9b8e7da24b79",
   "metadata": {
    "pycharm": {
     "name": "#%%\n"
    }
   },
   "outputs": [
    {
     "data": {
      "text/plain": [
       "tensor([[[ 0.0000, -0.7746, -0.2888, -0.8981, -0.8492, -0.7417],\n",
       "         [ 0.5047,  0.9792,  0.9172, -0.7500, -0.4202,  0.3701],\n",
       "         [-2.4665, -0.6434,  0.7694, -0.9121,  0.0649, -0.0460],\n",
       "         [ 0.2664, -0.4632,  0.5302, -0.1771, -0.1386,  0.7544],\n",
       "         [ 0.8921, -0.2258,  2.2494, -1.8883,  0.4516, -1.5401]],\n",
       "\n",
       "        [[-0.5647,  0.6945,  0.2485, -0.6064,  0.7092, -0.1711],\n",
       "         [ 0.2881, -1.9235,  1.3011,  1.3421,  1.0636,  0.5790],\n",
       "         [ 0.2016, -0.1132,  1.8837,  0.7415,  0.7942, -0.0101],\n",
       "         [-0.8704, -0.3061, -0.6102,  0.2151,  0.3258, -1.7522],\n",
       "         [ 0.0611, -0.5383, -1.4757, -1.1995, -1.4830, -1.4264]]])"
      ]
     },
     "execution_count": 8,
     "metadata": {},
     "output_type": "execute_result"
    }
   ],
   "source": [
    "b"
   ]
  },
  {
   "cell_type": "code",
   "execution_count": 9,
   "id": "ef577923-b2b5-40e2-88b7-bdebb4c578da",
   "metadata": {
    "pycharm": {
     "name": "#%%\n"
    }
   },
   "outputs": [
    {
     "data": {
      "text/plain": [
       "tensor([[[False,  True,  True,  True,  True,  True],\n",
       "         [ True,  True,  True,  True,  True,  True],\n",
       "         [ True,  True,  True,  True,  True,  True],\n",
       "         [ True,  True,  True,  True,  True,  True],\n",
       "         [ True,  True,  True,  True,  True,  True]],\n",
       "\n",
       "        [[ True,  True,  True,  True,  True,  True],\n",
       "         [ True,  True,  True,  True,  True,  True],\n",
       "         [ True,  True,  True,  True,  True,  True],\n",
       "         [ True,  True,  True,  True,  True,  True],\n",
       "         [ True,  True,  True,  True,  True,  True]]])"
      ]
     },
     "execution_count": 9,
     "metadata": {},
     "output_type": "execute_result"
    }
   ],
   "source": [
    "b != 0"
   ]
  },
  {
   "cell_type": "code",
   "execution_count": 15,
   "id": "6819be07-bf66-43f5-8ec3-621520871148",
   "metadata": {
    "pycharm": {
     "name": "#%%\n"
    }
   },
   "outputs": [
    {
     "name": "stdout",
     "output_type": "stream",
     "text": [
      "torch.Size([2, 5, 6])\n"
     ]
    },
    {
     "data": {
      "text/plain": [
       "torch.Size([2, 5, 12])"
      ]
     },
     "execution_count": 15,
     "metadata": {},
     "output_type": "execute_result"
    }
   ],
   "source": [
    "a = torch.randn(5,6)\n",
    "b = torch.randn(2,5,6)\n",
    "a = torch.repeat_interleave(a.unsqueeze(0), repeats=b.shape[0], dim=0)\n",
    "print(a.shape)\n",
    "c= torch.cat((a,b),dim = 2)\n",
    "c.shape"
   ]
  },
  {
   "cell_type": "code",
   "execution_count": null,
   "id": "6d614321-97eb-4bd6-81c9-d0648fba898e",
   "metadata": {
    "pycharm": {
     "name": "#%%\n"
    }
   },
   "outputs": [],
   "source": [
    "def entitylabelcreat(self,labels,entitys):\n",
    "    forward_context_list=[]\n",
    "    backward_context_list=[]\n",
    "    for i in range(len(labels)):\n",
    "        label=labels[i]\n",
    "        entity=entitys[i]\n",
    "        #entity必在label中出现，不然不构成上下文\n",
    "        target_index=label.index(entity)\n",
    "        # 根据entity位置划分前后文\n",
    "        backward_context=label[0:target_index+1]\n",
    "        # 逆序\n",
    "        backward_context=backward_context[::-1]\n",
    "        #forward_context=label[target_index:]\n",
    "        forward_context_list.append(label)\n",
    "        backward_context_list.append(backward_context)\n",
    "    return forward_context_list,backward_context_list"
   ]
  },
  {
   "cell_type": "code",
   "execution_count": 20,
   "id": "6bee2b3f-cfbb-4923-a88c-b8e207becf94",
   "metadata": {
    "pycharm": {
     "name": "#%%\n"
    }
   },
   "outputs": [],
   "source": [
    "datasetname = \"entertainment\"\n",
    "filename =\"./data/generate_data/\"+ datasetname + \"_data/\"+ datasetname + \"_test_49500_2gram.json\"\n",
    "file = open(filename, 'r', encoding='utf-8')"
   ]
  },
  {
   "cell_type": "code",
   "execution_count": 21,
   "id": "7e486dda-98f3-4f48-9108-1bc582724e73",
   "metadata": {
    "pycharm": {
     "name": "#%%\n"
    }
   },
   "outputs": [
    {
     "name": "stdout",
     "output_type": "stream",
     "text": [
      "date\n",
      "['她', '为', '前男友', '怀孕', '没', '结婚', '后', '嫁给', '苦守', '16', '年', '的', '男闺蜜', '如今', '被宠', '成', '公主']\n",
      "news\n",
      "['她', '为', '前男友', '怀孕', '没', '结婚', '后', '嫁给', '苦守', '16', '年', '的', '男闺蜜', '如今', '被宠', '成', '公主']\n",
      "title\n",
      "['她', '为', '前男友', '怀孕', '没', '结婚', '后', '嫁给', '苦守', '16', '年', '的', '男闺蜜', '如今', '被宠', '成', '公主']\n",
      "v_names\n",
      "['她', '为', '前男友', '怀孕', '没', '结婚', '后', '嫁给', '苦守', '16', '年', '的', '男闺蜜', '如今', '被宠', '成', '公主']\n",
      "label\n",
      "['她', '为', '前男友', '怀孕', '没', '结婚', '后', '嫁给', '苦守', '16', '年', '的', '男闺蜜', '如今', '被宠', '成', '公主']\n",
      "entity\n",
      "['她', '为', '前男友', '怀孕', '没', '结婚', '后', '嫁给', '苦守', '16', '年', '的', '男闺蜜', '如今', '被宠', '成', '公主']\n",
      "title_score\n",
      "['她', '为', '前男友', '怀孕', '没', '结婚', '后', '嫁给', '苦守', '16', '年', '的', '男闺蜜', '如今', '被宠', '成', '公主']\n",
      "label_score\n",
      "['她', '为', '前男友', '怀孕', '没', '结婚', '后', '嫁给', '苦守', '16', '年', '的', '男闺蜜', '如今', '被宠', '成', '公主']\n"
     ]
    }
   ],
   "source": [
    "for line in file.readlines():\n",
    "    pop_dict = json.loads(line)\n",
    "    for k,v in pop_dict.items():\n",
    "        print(k)\n",
    "        print(pop_dict['title'])\n",
    "    break"
   ]
  },
  {
   "cell_type": "code",
   "execution_count": null,
   "id": "95e498e6-cd65-411a-aeb2-d38c13c5658e",
   "metadata": {
    "pycharm": {
     "name": "#%%\n"
    }
   },
   "outputs": [],
   "source": []
  }
 ],
 "metadata": {
  "kernelspec": {
   "display_name": "py36",
   "language": "python",
   "name": "py36"
  },
  "language_info": {
   "codemirror_mode": {
    "name": "ipython",
    "version": 3
   },
   "file_extension": ".py",
   "mimetype": "text/x-python",
   "name": "python",
   "nbconvert_exporter": "python",
   "pygments_lexer": "ipython3",
   "version": "3.6.13"
  }
 },
 "nbformat": 4,
 "nbformat_minor": 5
}